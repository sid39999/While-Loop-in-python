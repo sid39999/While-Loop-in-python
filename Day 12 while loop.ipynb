{
 "cells": [
  {
   "cell_type": "markdown",
   "id": "21ff2459",
   "metadata": {},
   "source": [
    "#                          Welcome To Our Challenge\n",
    "                                100 Days of Code Challenge\n",
    "\n",
    "                    Challenge Accepted by YOUTUBER:   SANCHIT AGRAWAL"
   ]
  },
  {
   "cell_type": "code",
   "execution_count": null,
   "id": "b6f19779",
   "metadata": {},
   "outputs": [],
   "source": [
    "YOUTUBE CHANNEL Name: Sanchit Agrawal"
   ]
  },
  {
   "cell_type": "markdown",
   "id": "ad5d1315",
   "metadata": {},
   "source": [
    "#                                           DAY 12\n",
    "                                         LET'S BEGIN"
   ]
  },
  {
   "cell_type": "markdown",
   "id": "1c772042",
   "metadata": {},
   "source": [
    "# While Loop"
   ]
  },
  {
   "cell_type": "code",
   "execution_count": 1,
   "id": "ba23fbea",
   "metadata": {},
   "outputs": [
    {
     "name": "stdout",
     "output_type": "stream",
     "text": [
      "1\n",
      "2\n",
      "3\n",
      "4\n",
      "5\n"
     ]
    }
   ],
   "source": [
    "x = 1\n",
    "while x<=5:\n",
    "    print(x)\n",
    "    x +=1"
   ]
  },
  {
   "cell_type": "code",
   "execution_count": 4,
   "id": "01a333aa",
   "metadata": {},
   "outputs": [
    {
     "name": "stdout",
     "output_type": "stream",
     "text": [
      "1\n",
      "2\n",
      "3\n"
     ]
    }
   ],
   "source": [
    "x = 1\n",
    "while x<=5:\n",
    "    print(x)\n",
    "    if x==3:\n",
    "        break\n",
    "    x +=1\n",
    "    "
   ]
  },
  {
   "cell_type": "markdown",
   "id": "7b583ba8",
   "metadata": {},
   "source": [
    "# Infinite Loop"
   ]
  },
  {
   "cell_type": "code",
   "execution_count": 6,
   "id": "e0f1bd1a",
   "metadata": {},
   "outputs": [
    {
     "name": "stdout",
     "output_type": "stream",
     "text": [
      "1\n",
      "2\n",
      "3\n",
      "4\n",
      "5\n",
      "6\n",
      "7\n",
      "8\n",
      "9\n"
     ]
    }
   ],
   "source": [
    "#highly recomended don't run infinite loop \n",
    "# system crash ho jayega \n",
    "x = 1\n",
    "while x>0:\n",
    "    print(x)\n",
    "    x +=1\n",
    "    if x == 10:\n",
    "        break"
   ]
  },
  {
   "cell_type": "code",
   "execution_count": null,
   "id": "8d341220",
   "metadata": {},
   "outputs": [],
   "source": [
    "print('hello')"
   ]
  },
  {
   "cell_type": "markdown",
   "id": "2d8be7f4",
   "metadata": {},
   "source": [
    "# Bonus: Password Guess Program"
   ]
  },
  {
   "cell_type": "code",
   "execution_count": null,
   "id": "44ca2312",
   "metadata": {},
   "outputs": [],
   "source": [
    "pas = \"python123\"\n",
    "attempt = 3\n",
    "\n",
    "while attempt>0:\n",
    "    user = input('enter your password: ')\n",
    "    if user == pas:\n",
    "        print('login succesfull')\n",
    "        break\n",
    "    else: \n",
    "        attempt -=1\n",
    "        print('wrong password')\n",
    "print('end')"
   ]
  }
 ],
 "metadata": {
  "kernelspec": {
   "display_name": "Python 3 (ipykernel)",
   "language": "python",
   "name": "python3"
  },
  "language_info": {
   "codemirror_mode": {
    "name": "ipython",
    "version": 3
   },
   "file_extension": ".py",
   "mimetype": "text/x-python",
   "name": "python",
   "nbconvert_exporter": "python",
   "pygments_lexer": "ipython3",
   "version": "3.11.5"
  }
 },
 "nbformat": 4,
 "nbformat_minor": 5
}
